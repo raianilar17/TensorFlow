{
 "cells": [
  {
   "cell_type": "markdown",
   "metadata": {
    "colab_type": "text",
    "id": "iQjHqsmTAVLU"
   },
   "source": [
    "## Exercise 3\n",
    "In the videos you looked at how you would improve Fashion MNIST using Convolutions. For your exercise see if you can improve MNIST to 99.8% accuracy or more **using only a single convolutional layer and a single MaxPooling 2D.** You should stop training once the accuracy goes above this amount. It should happen in less than 20 epochs, so it's ok to hard code the number of epochs for training, but your training must end once it hits the above metric. If it doesn't, then you'll need to redesign your layers.\n",
    "\n",
    "I've started the code for you -- you need to finish it!\n",
    "\n",
    "When 99.8% accuracy has been hit, you should print out the string \"Reached 99.8% accuracy so cancelling training!\"\n"
   ]
  },
  {
   "cell_type": "code",
   "execution_count": 37,
   "metadata": {},
   "outputs": [],
   "source": [
    "import tensorflow as tf\n",
    "from os import path, getcwd, chdir\n",
    "\n",
    "# DO NOT CHANGE THE LINE BELOW. If you are developing in a local\n",
    "# environment, then grab mnist.npz from the Coursera Jupyter Notebook\n",
    "# and place it inside a local folder and edit the path to that location\n",
    "#path = f\"{getcwd()}/../tmp2/mnist.npz\"\n",
    "#path = f\"{getcwd()}/tmp2/mnist.npz\"\n",
    "path = f\"/home/anilrai/Technology/Deep_Learning/Framework/Tensorflow/DeepLearning.AI TensorFlow Developer Professional Certificate/1_Course_Introduction to TensorFlow for Artificial Intelligence, Machine Learning, and Deep Learning/tmp2/mnist.npz\""
   ]
  },
  {
   "cell_type": "code",
   "execution_count": 38,
   "metadata": {},
   "outputs": [
    {
     "name": "stdout",
     "output_type": "stream",
     "text": [
      "/home/anilrai/Technology/Deep_Learning/Framework/Tensorflow/DeepLearning.AI TensorFlow Developer Professional Certificate/1_Course_Introduction to TensorFlow for Artificial Intelligence, Machine Learning, and Deep Learning/tmp2/mnist.npz\n"
     ]
    }
   ],
   "source": [
    "print(path)"
   ]
  },
  {
   "cell_type": "code",
   "execution_count": 39,
   "metadata": {},
   "outputs": [],
   "source": [
    "#config = tf.compat.v1.ConfigProto()\n",
    "#config.gpu_options.allow_growth = True\n",
    "#session = tf.compat.v1.Session(config=config)"
   ]
  },
  {
   "cell_type": "markdown",
   "metadata": {},
   "source": [
    "- USE **tensorflow.ConfigProto.gpu_options.allow_growth** TO ALLOCATE MEMORY TO A SESSION ONLY AS NEEDED\n",
    "\n",
    "- Call **tensorflow.compat.v1.ConfigProto()** to configure the session about to be run.\n",
    "- Set **config.gpu_options.allow_growth** equal to True to configure the session to allocate memory only as needed.\n"
   ]
  },
  {
   "cell_type": "code",
   "execution_count": 40,
   "metadata": {},
   "outputs": [],
   "source": [
    "#config = tf.ConfigProto()\n",
    "config = tf.compat.v1.ConfigProto()\n",
    "config.gpu_options.allow_growth = True\n",
    "sess = tf.compat.v1.Session(config=config)"
   ]
  },
  {
   "cell_type": "code",
   "execution_count": 41,
   "metadata": {},
   "outputs": [],
   "source": [
    "class myCallback(tf.keras.callbacks.Callback):\n",
    "    def on_epoch_end(self, epoch, logs={}):\n",
    "        if (logs.get('accuracy') > 0.998):\n",
    "            print(\"\\nReached 99.8% accuracy so cancellling training!\")\n",
    "            self.model.stop_training = True"
   ]
  },
  {
   "cell_type": "code",
   "execution_count": 42,
   "metadata": {},
   "outputs": [],
   "source": [
    "# GRADED FUNCTION: train_mnist_conv\n",
    "def train_mnist_conv():\n",
    "    # Please write your code only where you are indicated.\n",
    "    # please do not remove model fitting inline comments.\n",
    "\n",
    "    # YOUR CODE STARTS HERE\n",
    "    callbacks = myCallback()\n",
    "    \n",
    "    # YOUR CODE ENDS HERE\n",
    "\n",
    "    mnist = tf.keras.datasets.mnist\n",
    "    (training_images, training_labels), (test_images, test_labels) = mnist.load_data(path=path)\n",
    "    # YOUR CODE STARTS HERE\n",
    "    training_images = training_images.reshape((60000, 28, 28, 1))\n",
    "    training_images = training_images / 255.0\n",
    "    test_images = test_images.reshape((10000, 28, 28, 1))\n",
    "    test_images = test_images / 255.0\n",
    "\n",
    "    # YOUR CODE ENDS HERE\n",
    "\n",
    "    model = tf.keras.models.Sequential([\n",
    "            # YOUR CODE STARTS HERE\n",
    "            # Try to simplify the architecture as much as possible. You can reach the target accuracy\n",
    "            # with just a single convolution and max pooling followed by the usual flatten and dense layers.\n",
    "            # If you get grader timeouts in your submission, try to minimize the number of convolution filters \n",
    "            # and dense units.\n",
    "            tf.keras.layers.Conv2D(32, (3, 3), activation='relu', input_shape=(28, 28, 1) ),\n",
    "            tf.keras.layers.MaxPooling2D(2,2),\n",
    "            tf.keras.layers.Flatten(),\n",
    "            tf.keras.layers.Dense(128, activation = 'relu'),\n",
    "            tf.keras.layers.Dense(10, activation = 'softmax')\n",
    "\n",
    "            # YOUR CODE ENDS HERE\n",
    "    ])\n",
    "\n",
    "    model.compile(optimizer='adam', loss='sparse_categorical_crossentropy', metrics=['accuracy'])\n",
    "    # model fitting\n",
    "    history = model.fit(\n",
    "        # YOUR CODE STARTS HERE\n",
    "        # Remember to set a callback function to stop the training when the target accuracy is reached. \n",
    "        # It should be met in less than 20 epochs.\n",
    "        training_images, training_labels, epochs = 20, callbacks = [callbacks]\n",
    "\n",
    "        # YOUR CODE ENDS HERE\n",
    "    )\n",
    "    # model fitting\n",
    "    return history.epoch, history.history['accuracy'][-1]\n",
    "\n"
   ]
  },
  {
   "cell_type": "code",
   "execution_count": 43,
   "metadata": {},
   "outputs": [
    {
     "name": "stdout",
     "output_type": "stream",
     "text": [
      "Epoch 1/20\n",
      "1875/1875 [==============================] - 21s 11ms/step - loss: 0.1499 - accuracy: 0.9549\n",
      "Epoch 2/20\n",
      "1875/1875 [==============================] - 21s 11ms/step - loss: 0.0517 - accuracy: 0.9840\n",
      "Epoch 3/20\n",
      "1875/1875 [==============================] - 21s 11ms/step - loss: 0.0334 - accuracy: 0.9897\n",
      "Epoch 4/20\n",
      "1875/1875 [==============================] - 21s 11ms/step - loss: 0.0227 - accuracy: 0.9928\n",
      "Epoch 5/20\n",
      "1875/1875 [==============================] - 22s 12ms/step - loss: 0.0151 - accuracy: 0.9951\n",
      "Epoch 6/20\n",
      "1875/1875 [==============================] - 22s 12ms/step - loss: 0.0116 - accuracy: 0.9960\n",
      "Epoch 7/20\n",
      "1875/1875 [==============================] - 22s 12ms/step - loss: 0.0082 - accuracy: 0.9973\n",
      "Epoch 8/20\n",
      "1875/1875 [==============================] - 22s 12ms/step - loss: 0.0062 - accuracy: 0.9980\n",
      "Epoch 9/20\n",
      "1875/1875 [==============================] - 22s 12ms/step - loss: 0.0055 - accuracy: 0.9982\n",
      "\n",
      "Reached 99.8% accuracy so cancellling training!\n"
     ]
    }
   ],
   "source": [
    "_, _ = train_mnist_conv()"
   ]
  },
  {
   "cell_type": "code",
   "execution_count": 44,
   "metadata": {},
   "outputs": [],
   "source": [
    "# Now click the 'Submit Assignment' button above.\n",
    "# Once that is complete, please run the following two cells to save your work and close the notebook"
   ]
  },
  {
   "cell_type": "code",
   "execution_count": null,
   "metadata": {},
   "outputs": [],
   "source": [
    "%%javascript\n",
    "<!-- Save the notebook -->\n",
    "IPython.notebook.save_checkpoint();"
   ]
  },
  {
   "cell_type": "markdown",
   "metadata": {},
   "source": [
    "When a notebook is opened, its “computational engine” (called the kernel) is automatically started. Closing the notebook browser tab, will not shut down the kernel, instead the kernel will keep running until is explicitly shut down.\""
   ]
  },
  {
   "cell_type": "code",
   "execution_count": null,
   "metadata": {},
   "outputs": [],
   "source": [
    "%%javascript\n",
    "IPython.notebook.session.delete();\n",
    "window.onbeforeunload = null\n",
    "setTimeout(function() { window.close(); }, 1000);"
   ]
  }
 ],
 "metadata": {
  "coursera": {
   "course_slug": "introduction-tensorflow",
   "graded_item_id": "ml06H",
   "launcher_item_id": "hQF8A"
  },
  "kernelspec": {
   "display_name": "Python 3",
   "language": "python",
   "name": "python3"
  },
  "language_info": {
   "codemirror_mode": {
    "name": "ipython",
    "version": 3
   },
   "file_extension": ".py",
   "mimetype": "text/x-python",
   "name": "python",
   "nbconvert_exporter": "python",
   "pygments_lexer": "ipython3",
   "version": "3.6.8"
  }
 },
 "nbformat": 4,
 "nbformat_minor": 1
}
