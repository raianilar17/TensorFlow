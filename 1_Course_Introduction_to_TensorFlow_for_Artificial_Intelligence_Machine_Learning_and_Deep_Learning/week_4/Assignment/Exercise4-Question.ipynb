{
 "cells": [
  {
   "cell_type": "markdown",
   "metadata": {
    "colab_type": "text",
    "id": "UncprnB0ymAE"
   },
   "source": [
    "Below is code with a link to a happy or sad dataset which contains 80 images, 40 happy and 40 sad. \n",
    "Create a convolutional neural network that trains to 100% accuracy on these images,  which cancels training upon hitting training accuracy of >.999\n",
    "\n",
    "Hint -- it will work best with 3 convolutional layers."
   ]
  },
  {
   "cell_type": "code",
   "execution_count": 2,
   "metadata": {},
   "outputs": [],
   "source": [
    "import tensorflow as tf\n",
    "import os\n",
    "import zipfile\n",
    "from os import path, getcwd, chdir\n",
    "\n",
    "# DO NOT CHANGE THE LINE BELOW. If you are developing in a local\n",
    "# environment, then grab happy-or-sad.zip from the Coursera Jupyter Notebook\n",
    "# and place it inside a local folder and edit the path to that location\n",
    "#path = f\"{getcwd()}/../tmp2/happy-or-sad.zip\"\n",
    "path = \"../../tmp2/happy-or-sad.zip\"\n",
    "\n",
    "zip_ref = zipfile.ZipFile(path, 'r')\n",
    "zip_ref.extractall(\"../../tmp2/h-or-s\")\n",
    "zip_ref.close()"
   ]
  },
  {
   "cell_type": "code",
   "execution_count": 3,
   "metadata": {},
   "outputs": [
    {
     "name": "stdout",
     "output_type": "stream",
     "text": [
      "../../tmp2/happy-or-sad.zip\n"
     ]
    }
   ],
   "source": [
    "print(path)"
   ]
  },
  {
   "cell_type": "code",
   "execution_count": 12,
   "metadata": {},
   "outputs": [],
   "source": [
    "# GRADED FUNCTION: train_happy_sad_model\n",
    "def train_happy_sad_model():\n",
    "    # Please write your code only where you are indicated.\n",
    "    # please do not remove # model fitting inline comments.\n",
    "\n",
    "    DESIRED_ACCURACY = 0.999\n",
    "\n",
    "    class myCallback(tf.keras.callbacks.Callback):\n",
    "        def on_epoch_end(self, epoch, logs={}):\n",
    "            print(logs)\n",
    "            if (logs.get('accuracy')> DESIRED_ACCURACY):\n",
    "                print('\\nReached 99.9% accuracy so cancelling training')\n",
    "                self.model.stop_training = True\n",
    "\n",
    "    callbacks = myCallback()\n",
    "    \n",
    "    # This Code Block should Define and Compile the Model. Please assume the images are 150 X 150 in your implementation.\n",
    "    model = tf.keras.models.Sequential([\n",
    "        tf.keras.layers.Conv2D(16, (3,3), activation = 'relu', input_shape = (150, 150, 3)),\n",
    "        tf.keras.layers.MaxPooling2D(2, 2),\n",
    "        tf.keras.layers.Conv2D(32, (3,3), activation = 'relu'),\n",
    "        tf.keras.layers.MaxPooling2D(2,2),\n",
    "        tf.keras.layers.Conv2D(32, (3,3), activation = 'relu'),\n",
    "        tf.keras.layers.MaxPooling2D(2,2),\n",
    "        tf.keras.layers.Flatten(),\n",
    "        tf.keras.layers.Dense(512, activation = 'relu'),\n",
    "        tf.keras.layers.Dense(1, activation = 'sigmoid')\n",
    "    ])\n",
    "\n",
    "    from tensorflow.keras.optimizers import RMSprop\n",
    "\n",
    "    model.compile(loss = 'binary_crossentropy', optimizer = RMSprop(learning_rate=0.001), metrics=['accuracy'])\n",
    "        \n",
    "\n",
    "    # This code block should create an instance of an ImageDataGenerator called train_datagen \n",
    "    # And a train_generator by calling train_datagen.flow_from_directory\n",
    "\n",
    "    from tensorflow.keras.preprocessing.image import ImageDataGenerator\n",
    "\n",
    "    train_datagen = ImageDataGenerator(rescale = 1/255)\n",
    "\n",
    "    # Please use a target_size of 150 X 150.\n",
    "    train_generator = train_datagen.flow_from_directory(\n",
    "        \"../../tmp2/h-or-s\",\n",
    "        target_size = (150, 150),\n",
    "        batch_size = 8,\n",
    "        class_mode = 'binary')\n",
    "    # Expected output: 'Found 80 images belonging to 2 classes'\n",
    "\n",
    "    # This code block should call model.fit_generator and train for\n",
    "    # a number of epochs.\n",
    "    # model fitting\n",
    "    history = model.fit_generator(\n",
    "          train_generator,\n",
    "          steps_per_epoch = 10,\n",
    "          epochs = 15,\n",
    "          verbose = 1,\n",
    "          callbacks=[callbacks])\n",
    "    # model fitting\n",
    "    return history.history['accuracy'][-1]"
   ]
  },
  {
   "cell_type": "code",
   "execution_count": 13,
   "metadata": {},
   "outputs": [
    {
     "name": "stdout",
     "output_type": "stream",
     "text": [
      "Found 80 images belonging to 2 classes.\n",
      "Epoch 1/15\n",
      "10/10 [==============================] - 2s 106ms/step - loss: 0.7413 - accuracy: 0.6625\n",
      "{'loss': 0.7413362264633179, 'accuracy': 0.6625000238418579}\n",
      "Epoch 2/15\n",
      "10/10 [==============================] - 1s 112ms/step - loss: 0.2751 - accuracy: 0.8625\n",
      "{'loss': 0.27514880895614624, 'accuracy': 0.862500011920929}\n",
      "Epoch 3/15\n",
      "10/10 [==============================] - 1s 106ms/step - loss: 0.1956 - accuracy: 0.9125\n",
      "{'loss': 0.19559094309806824, 'accuracy': 0.9125000238418579}\n",
      "Epoch 4/15\n",
      "10/10 [==============================] - 1s 98ms/step - loss: 0.0763 - accuracy: 0.9750\n",
      "{'loss': 0.076325424015522, 'accuracy': 0.9750000238418579}\n",
      "Epoch 5/15\n",
      "10/10 [==============================] - 1s 97ms/step - loss: 0.1835 - accuracy: 0.9125\n",
      "{'loss': 0.18350180983543396, 'accuracy': 0.9125000238418579}\n",
      "Epoch 6/15\n",
      "10/10 [==============================] - 1s 99ms/step - loss: 0.0504 - accuracy: 0.9875\n",
      "{'loss': 0.05038980767130852, 'accuracy': 0.987500011920929}\n",
      "Epoch 7/15\n",
      "10/10 [==============================] - 1s 100ms/step - loss: 0.0190 - accuracy: 1.0000\n",
      "{'loss': 0.018981313332915306, 'accuracy': 1.0}\n",
      "\n",
      "Reached 99.9% accuracy so cancelling training\n"
     ]
    },
    {
     "data": {
      "text/plain": [
       "1.0"
      ]
     },
     "execution_count": 13,
     "metadata": {},
     "output_type": "execute_result"
    }
   ],
   "source": [
    "# The Expected output: \"Reached 99.9% accuracy so cancelling training!\"\"\n",
    "train_happy_sad_model()"
   ]
  },
  {
   "cell_type": "code",
   "execution_count": 14,
   "metadata": {},
   "outputs": [],
   "source": [
    "# Now click the 'Submit Assignment' button above.\n",
    "# Once that is complete, please run the following two cells to save your work and close the notebook"
   ]
  },
  {
   "cell_type": "code",
   "execution_count": null,
   "metadata": {},
   "outputs": [],
   "source": [
    "%%javascript\n",
    "<!-- Save the notebook -->\n",
    "IPython.notebook.save_checkpoint();"
   ]
  },
  {
   "cell_type": "code",
   "execution_count": null,
   "metadata": {},
   "outputs": [],
   "source": [
    "%%javascript\n",
    "IPython.notebook.session.delete();\n",
    "window.onbeforeunload = null\n",
    "setTimeout(function() { window.close(); }, 1000);"
   ]
  }
 ],
 "metadata": {
  "coursera": {
   "course_slug": "introduction-tensorflow",
   "graded_item_id": "1kAlw",
   "launcher_item_id": "PNLYD"
  },
  "kernelspec": {
   "display_name": "Python 3",
   "language": "python",
   "name": "python3"
  },
  "language_info": {
   "codemirror_mode": {
    "name": "ipython",
    "version": 3
   },
   "file_extension": ".py",
   "mimetype": "text/x-python",
   "name": "python",
   "nbconvert_exporter": "python",
   "pygments_lexer": "ipython3",
   "version": "3.6.8"
  }
 },
 "nbformat": 4,
 "nbformat_minor": 1
}
