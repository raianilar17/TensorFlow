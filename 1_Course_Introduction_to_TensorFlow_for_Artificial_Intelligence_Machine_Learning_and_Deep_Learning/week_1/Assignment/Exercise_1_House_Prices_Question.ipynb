{
 "cells": [
  {
   "cell_type": "markdown",
   "metadata": {
    "colab_type": "text",
    "id": "mw2VBrBcgvGa"
   },
   "source": [
    "In this exercise you'll try to build a neural network that predicts the price of a house according to a simple formula.\n",
    "\n",
    "So, imagine if house pricing was as easy as a house costs 50k + 50k per bedroom, so that a 1 bedroom house costs 100k, a 2 bedroom house costs 150k etc.\n",
    "\n",
    "How would you create a neural network that learns this relationship so that it would predict a 7 bedroom house as costing close to 400k etc.\n",
    "\n",
    "Hint: Your network might work better if you scale the house price down. You don't have to give the answer 400...it might be better to create something that predicts the number 4, and then your answer is in the 'hundreds of thousands' etc."
   ]
  },
  {
   "cell_type": "code",
   "execution_count": 1,
   "metadata": {},
   "outputs": [],
   "source": [
    "import tensorflow as tf\n",
    "import numpy as np\n",
    "from tensorflow import keras"
   ]
  },
  {
   "cell_type": "code",
   "execution_count": 54,
   "metadata": {},
   "outputs": [],
   "source": [
    "x_lst = []\n",
    "y_lst = []\n",
    "for i in range(1, 350):\n",
    "    x_lst.append(float(i))\n",
    "    y_lst.append(float(5*i + 5))"
   ]
  },
  {
   "cell_type": "code",
   "execution_count": 55,
   "metadata": {
    "colab": {},
    "colab_type": "code",
    "id": "PUNO2E6SeURH"
   },
   "outputs": [],
   "source": [
    "# GRADED FUNCTION: house_model\n",
    "def house_model(y_new):\n",
    "    xs = np.array(x_lst, dtype=float)\n",
    "    ys = np.array(y_lst, dtype=float)\n",
    "    model = keras.Sequential([keras.layers.Dense(units=1, input_shape=[1], kernel_initializer='uniform', activation='linear')])\n",
    "    model.compile(optimizer='adam', loss='mse', metrics=['mse', 'mae'])\n",
    "    model.fit(xs, ys, epochs=45)\n",
    "    model.summary()\n",
    "    return model.predict(y_new)[0]"
   ]
  },
  {
   "cell_type": "code",
   "execution_count": 56,
   "metadata": {},
   "outputs": [
    {
     "name": "stdout",
     "output_type": "stream",
     "text": [
      "Epoch 1/45\n",
      "349/349 [==============================] - 0s 766us/sample - loss: 1012442.5208 - mean_squared_error: 1012442.5625 - mean_absolute_error: 873.2496\n",
      "Epoch 2/45\n",
      "349/349 [==============================] - 0s 38us/sample - loss: 1007967.3981 - mean_squared_error: 1007967.4375 - mean_absolute_error: 871.3240\n",
      "Epoch 3/45\n",
      "349/349 [==============================] - 0s 263us/sample - loss: 1003589.1590 - mean_squared_error: 1003589.1250 - mean_absolute_error: 869.4177\n",
      "Epoch 4/45\n",
      "349/349 [==============================] - 0s 266us/sample - loss: 999193.0009 - mean_squared_error: 999193.0625 - mean_absolute_error: 867.5177\n",
      "Epoch 5/45\n",
      "349/349 [==============================] - 0s 259us/sample - loss: 994722.7889 - mean_squared_error: 994722.6875 - mean_absolute_error: 865.5884\n",
      "Epoch 6/45\n",
      "349/349 [==============================] - 0s 40us/sample - loss: 990409.7781 - mean_squared_error: 990409.8125 - mean_absolute_error: 863.6998\n",
      "Epoch 7/45\n",
      "349/349 [==============================] - 0s 266us/sample - loss: 986008.9044 - mean_squared_error: 986009.0625 - mean_absolute_error: 861.7876\n",
      "Epoch 8/45\n",
      "349/349 [==============================] - 0s 261us/sample - loss: 981653.3696 - mean_squared_error: 981653.4375 - mean_absolute_error: 859.8807\n",
      "Epoch 9/45\n",
      "349/349 [==============================] - 0s 39us/sample - loss: 977357.5989 - mean_squared_error: 977357.5625 - mean_absolute_error: 857.9874\n",
      "Epoch 10/45\n",
      "349/349 [==============================] - 0s 260us/sample - loss: 972881.2527 - mean_squared_error: 972881.2500 - mean_absolute_error: 856.0461\n",
      "Epoch 11/45\n",
      "349/349 [==============================] - 0s 267us/sample - loss: 968699.3283 - mean_squared_error: 968699.2500 - mean_absolute_error: 854.1862\n",
      "Epoch 12/45\n",
      "349/349 [==============================] - 0s 267us/sample - loss: 964277.8299 - mean_squared_error: 964277.8125 - mean_absolute_error: 852.2559\n",
      "Epoch 13/45\n",
      "349/349 [==============================] - 0s 38us/sample - loss: 960147.2231 - mean_squared_error: 960147.2500 - mean_absolute_error: 850.4000\n",
      "Epoch 14/45\n",
      "349/349 [==============================] - 0s 261us/sample - loss: 955793.3435 - mean_squared_error: 955793.3125 - mean_absolute_error: 848.4672\n",
      "Epoch 15/45\n",
      "349/349 [==============================] - 0s 260us/sample - loss: 951471.9676 - mean_squared_error: 951472.0625 - mean_absolute_error: 846.5698\n",
      "Epoch 16/45\n",
      "349/349 [==============================] - 0s 37us/sample - loss: 947330.2101 - mean_squared_error: 947330.1875 - mean_absolute_error: 844.6992\n",
      "Epoch 17/45\n",
      "349/349 [==============================] - 0s 41us/sample - loss: 942966.0584 - mean_squared_error: 942966.1250 - mean_absolute_error: 842.7843\n",
      "Epoch 18/45\n",
      "349/349 [==============================] - 0s 264us/sample - loss: 938881.8600 - mean_squared_error: 938881.8125 - mean_absolute_error: 840.9346\n",
      "Epoch 19/45\n",
      "349/349 [==============================] - 0s 258us/sample - loss: 934697.9966 - mean_squared_error: 934697.8750 - mean_absolute_error: 839.0446\n",
      "Epoch 20/45\n",
      "349/349 [==============================] - 0s 42us/sample - loss: 930369.7744 - mean_squared_error: 930369.8125 - mean_absolute_error: 837.1258\n",
      "Epoch 21/45\n",
      "349/349 [==============================] - 0s 264us/sample - loss: 926211.7984 - mean_squared_error: 926211.7500 - mean_absolute_error: 835.2617\n",
      "Epoch 22/45\n",
      "349/349 [==============================] - 0s 268us/sample - loss: 922175.4882 - mean_squared_error: 922175.4375 - mean_absolute_error: 833.4070\n",
      "Epoch 23/45\n",
      "349/349 [==============================] - 0s 266us/sample - loss: 917973.8462 - mean_squared_error: 917973.8125 - mean_absolute_error: 831.5176\n",
      "Epoch 24/45\n",
      "349/349 [==============================] - 0s 38us/sample - loss: 913788.9398 - mean_squared_error: 913788.8750 - mean_absolute_error: 829.6281\n",
      "Epoch 25/45\n",
      "349/349 [==============================] - 0s 257us/sample - loss: 909707.2196 - mean_squared_error: 909707.1875 - mean_absolute_error: 827.7692\n",
      "Epoch 26/45\n",
      "349/349 [==============================] - 0s 266us/sample - loss: 905580.5953 - mean_squared_error: 905580.6250 - mean_absolute_error: 825.8936\n",
      "Epoch 27/45\n",
      "349/349 [==============================] - 0s 40us/sample - loss: 901516.9062 - mean_squared_error: 901516.9375 - mean_absolute_error: 824.0372\n",
      "Epoch 28/45\n",
      "349/349 [==============================] - 0s 259us/sample - loss: 897433.9792 - mean_squared_error: 897434.0625 - mean_absolute_error: 822.1699\n",
      "Epoch 29/45\n",
      "349/349 [==============================] - 0s 264us/sample - loss: 893354.9866 - mean_squared_error: 893355.0000 - mean_absolute_error: 820.3002\n",
      "Epoch 30/45\n",
      "349/349 [==============================] - 0s 268us/sample - loss: 889285.0822 - mean_squared_error: 889285.1250 - mean_absolute_error: 818.4400\n",
      "Epoch 31/45\n",
      "349/349 [==============================] - 0s 42us/sample - loss: 885310.9160 - mean_squared_error: 885311.0000 - mean_absolute_error: 816.5955\n",
      "Epoch 32/45\n",
      "349/349 [==============================] - 0s 265us/sample - loss: 881221.9979 - mean_squared_error: 881222.0625 - mean_absolute_error: 814.7167\n",
      "Epoch 33/45\n",
      "349/349 [==============================] - 0s 270us/sample - loss: 877279.5104 - mean_squared_error: 877279.5625 - mean_absolute_error: 812.8737\n",
      "Epoch 34/45\n",
      "349/349 [==============================] - 0s 262us/sample - loss: 873320.7412 - mean_squared_error: 873320.8125 - mean_absolute_error: 811.0216\n",
      "Epoch 35/45\n",
      "349/349 [==============================] - 0s 39us/sample - loss: 869241.9936 - mean_squared_error: 869242.0625 - mean_absolute_error: 809.1481\n",
      "Epoch 36/45\n",
      "349/349 [==============================] - 0s 44us/sample - loss: 865346.2099 - mean_squared_error: 865346.1875 - mean_absolute_error: 807.3112\n",
      "Epoch 37/45\n",
      "349/349 [==============================] - 0s 272us/sample - loss: 861365.2855 - mean_squared_error: 861365.2500 - mean_absolute_error: 805.4590\n",
      "Epoch 38/45\n",
      "349/349 [==============================] - 0s 265us/sample - loss: 857400.4085 - mean_squared_error: 857400.3750 - mean_absolute_error: 803.6177\n",
      "Epoch 39/45\n",
      "349/349 [==============================] - 0s 268us/sample - loss: 853488.9488 - mean_squared_error: 853488.9375 - mean_absolute_error: 801.7806\n",
      "Epoch 40/45\n",
      "349/349 [==============================] - 0s 39us/sample - loss: 849589.5797 - mean_squared_error: 849589.5625 - mean_absolute_error: 799.9452\n",
      "Epoch 41/45\n",
      "349/349 [==============================] - 0s 260us/sample - loss: 845721.1714 - mean_squared_error: 845721.1875 - mean_absolute_error: 798.1171\n",
      "Epoch 42/45\n",
      "349/349 [==============================] - 0s 265us/sample - loss: 841822.8899 - mean_squared_error: 841822.8125 - mean_absolute_error: 796.2772\n",
      "Epoch 43/45\n",
      "349/349 [==============================] - 0s 38us/sample - loss: 837889.7235 - mean_squared_error: 837889.7500 - mean_absolute_error: 794.4297\n",
      "Epoch 44/45\n",
      "349/349 [==============================] - 0s 40us/sample - loss: 834095.5419 - mean_squared_error: 834095.5625 - mean_absolute_error: 792.6303\n",
      "Epoch 45/45\n",
      "349/349 [==============================] - 0s 265us/sample - loss: 830183.8922 - mean_squared_error: 830183.8750 - mean_absolute_error: 790.7855\n",
      "Model: \"sequential_20\"\n",
      "_________________________________________________________________\n",
      "Layer (type)                 Output Shape              Param #   \n",
      "=================================================================\n",
      "dense_20 (Dense)             (None, 1)                 2         \n",
      "=================================================================\n",
      "Total params: 2\n",
      "Trainable params: 2\n",
      "Non-trainable params: 0\n",
      "_________________________________________________________________\n",
      "[406970.59631348]\n"
     ]
    }
   ],
   "source": [
    "prediction = house_model([7.0])\n",
    "print(prediction*100000)"
   ]
  },
  {
   "cell_type": "code",
   "execution_count": 11,
   "metadata": {},
   "outputs": [],
   "source": [
    "# Now click the 'Submit Assignment' button above.\n",
    "# Once that is complete, please run the following two cells to save your work and close the notebook"
   ]
  },
  {
   "cell_type": "code",
   "execution_count": null,
   "metadata": {},
   "outputs": [],
   "source": [
    "%%javascript\n",
    "<!-- Save the notebook -->\n",
    "IPython.notebook.save_checkpoint();"
   ]
  },
  {
   "cell_type": "code",
   "execution_count": null,
   "metadata": {},
   "outputs": [],
   "source": [
    "%%javascript\n",
    "IPython.notebook.session.delete();\n",
    "window.onbeforeunload = null\n",
    "setTimeout(function() { window.close(); }, 1000);"
   ]
  }
 ],
 "metadata": {
  "coursera": {
   "course_slug": "introduction-tensorflow",
   "graded_item_id": "jRjw8",
   "launcher_item_id": "YoQKl"
  },
  "kernelspec": {
   "display_name": "Python 3",
   "language": "python",
   "name": "python3"
  },
  "language_info": {
   "codemirror_mode": {
    "name": "ipython",
    "version": 3
   },
   "file_extension": ".py",
   "mimetype": "text/x-python",
   "name": "python",
   "nbconvert_exporter": "python",
   "pygments_lexer": "ipython3",
   "version": "3.6.8"
  }
 },
 "nbformat": 4,
 "nbformat_minor": 2
}
